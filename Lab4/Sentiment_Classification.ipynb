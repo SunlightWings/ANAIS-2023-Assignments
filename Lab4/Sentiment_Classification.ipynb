{
  "cells": [
    {
      "cell_type": "markdown",
      "source": [
        "# Getting Started with Sentiment Analysis using Python"
      ],
      "metadata": {
        "id": "wtCzHA6JbT55"
      }
    },
    {
      "cell_type": "markdown",
      "source": [
        "Original Article: https://huggingface.co/blog/sentiment-analysis-python"
      ],
      "metadata": {
        "id": "Fe2BxFRibXO8"
      }
    },
    {
      "cell_type": "markdown",
      "source": [
        "## Install huggingface libraries"
      ],
      "metadata": {
        "id": "7SipDsvWbd4s"
      }
    },
    {
      "cell_type": "code",
      "source": [
        "!pip install -q transformers emoji xformers datasets accelerate"
      ],
      "metadata": {
        "id": "dzLLRItGbgHG"
      },
      "execution_count": null,
      "outputs": []
    },
    {
      "cell_type": "markdown",
      "source": [
        "## How to Use Pre-trained Sentiment Analysis Models with Python"
      ],
      "metadata": {
        "id": "Xxe0Y4X8blI_"
      }
    },
    {
      "cell_type": "markdown",
      "source": [
        "On the [Hugging Face Hub](https://huggingface.co/models), we are building the largest collection of models and datasets publicly available in order to democratize machine learning 🚀. In the Hub, you can find more than 27,000 models shared by the AI community with state-of-the-art performances on tasks such as sentiment analysis, object detection, text generation, speech recognition and more. The Hub is free to use and most models have a widget that allows to test them directly on your browser!\n",
        "\n",
        "There are more than [215 sentiment analysis models](https://huggingface.co/models?pipeline_tag=text-classification&sort=downloads&search=sentiment) publicly available on the Hub and integrating them with Python just takes 5 lines of code:"
      ],
      "metadata": {
        "id": "OOn9CPYRbp7D"
      }
    },
    {
      "cell_type": "code",
      "source": [
        "from transformers import pipeline"
      ],
      "metadata": {
        "id": "zDeZKI4Xbx88"
      },
      "execution_count": null,
      "outputs": []
    },
    {
      "cell_type": "code",
      "source": [
        "sentiment_pipeline = pipeline(\"sentiment-analysis\")"
      ],
      "metadata": {
        "id": "FxJ2ShqJb2R7"
      },
      "execution_count": null,
      "outputs": []
    },
    {
      "cell_type": "code",
      "source": [
        "data = [\"I love you\", \"I hate you\"]"
      ],
      "metadata": {
        "id": "Cc20MNY8b3jb"
      },
      "execution_count": null,
      "outputs": []
    },
    {
      "cell_type": "code",
      "source": [
        "sentiment_pipeline(data)"
      ],
      "metadata": {
        "id": "-Llt45Eeb5g3"
      },
      "execution_count": null,
      "outputs": []
    },
    {
      "cell_type": "markdown",
      "source": [
        "You can use a specific sentiment analysis model that is better suited to your language or use case by providing the name of the model. For example, if you want a sentiment analysis model for tweets, you can specify the [model id](https://huggingface.co/finiteautomata/bertweet-base-sentiment-analysis):"
      ],
      "metadata": {
        "id": "DXARu6Yeb_vg"
      }
    },
    {
      "cell_type": "code",
      "source": [
        "specific_model = pipeline(model=\"finiteautomata/bertweet-base-sentiment-analysis\")"
      ],
      "metadata": {
        "id": "0JMC2wX4b7u5"
      },
      "execution_count": null,
      "outputs": []
    },
    {
      "cell_type": "code",
      "source": [
        "specific_model(data)"
      ],
      "metadata": {
        "id": "U0EOG_ZUb9Tt"
      },
      "execution_count": null,
      "outputs": []
    },
    {
      "cell_type": "markdown",
      "source": [
        "## Building Your Own Sentiment Analysis Model"
      ],
      "metadata": {
        "id": "uK-N0tfScImY"
      }
    },
    {
      "cell_type": "markdown",
      "source": [
        "## Activate GPU and Install Dependencies"
      ],
      "metadata": {
        "id": "1CRSm4OHVCmY"
      }
    },
    {
      "cell_type": "markdown",
      "source": [
        "Activate GPU for faster training by clicking on `Runtime` > `Change runtime type` and then selecting `GPU` as the Hardware accelerator.\n",
        "Then check if GPU is available"
      ],
      "metadata": {
        "id": "EZiye2FicZ_p"
      }
    },
    {
      "cell_type": "code",
      "execution_count": null,
      "metadata": {
        "id": "bxWHZyRQa2fE"
      },
      "outputs": [],
      "source": [
        "import torch\n",
        "torch.cuda.is_available()"
      ]
    },
    {
      "cell_type": "markdown",
      "source": [
        "## Preprocess data"
      ],
      "metadata": {
        "id": "30SGKgXKZ15V"
      }
    },
    {
      "cell_type": "markdown",
      "source": [
        "### Load data"
      ],
      "metadata": {
        "id": "m5MKpugMcpkP"
      }
    },
    {
      "cell_type": "code",
      "execution_count": null,
      "metadata": {
        "id": "0tyVQSMTGNy4"
      },
      "outputs": [],
      "source": [
        "from datasets import load_dataset\n",
        "\n",
        "imdb = load_dataset(\"imdb\") # Change to your desired dataset"
      ]
    },
    {
      "cell_type": "markdown",
      "source": [
        "### Create a smaller training dataset for faster training times"
      ],
      "metadata": {
        "id": "oHpwQXA3cn7K"
      }
    },
    {
      "cell_type": "code",
      "execution_count": null,
      "metadata": {
        "id": "DUeYgosTs28B"
      },
      "outputs": [],
      "source": [
        "small_train_dataset = imdb[\"train\"].shuffle(seed=42).select([i for i in list(range(3000))])\n",
        "small_test_dataset = imdb[\"test\"].shuffle(seed=42).select([i for i in list(range(300))])\n",
        "print(small_train_dataset[0])\n",
        "print(small_test_dataset[0])"
      ]
    },
    {
      "cell_type": "markdown",
      "source": [
        "### Set DistilBERT tokenizer"
      ],
      "metadata": {
        "id": "ftrVUmImct9F"
      }
    },
    {
      "cell_type": "code",
      "source": [
        "from transformers import AutoTokenizer"
      ],
      "metadata": {
        "id": "ntoWF_ajejMh"
      },
      "execution_count": null,
      "outputs": []
    },
    {
      "cell_type": "code",
      "source": [
        "MODEL_NAME = \"distilbert-base-uncased\" # change to you desired model"
      ],
      "metadata": {
        "id": "bjfKbm6Yeb4P"
      },
      "execution_count": null,
      "outputs": []
    },
    {
      "cell_type": "code",
      "execution_count": null,
      "metadata": {
        "id": "ZlrHnqydHc3b"
      },
      "outputs": [],
      "source": [
        "tokenizer = AutoTokenizer.from_pretrained(MODEL_NAME)"
      ]
    },
    {
      "cell_type": "markdown",
      "source": [
        "### Prepare the text inputs for the model"
      ],
      "metadata": {
        "id": "pEyOeTqWcxNd"
      }
    },
    {
      "cell_type": "code",
      "execution_count": null,
      "metadata": {
        "id": "_GCjM48HGScT"
      },
      "outputs": [],
      "source": [
        "def preprocess_function(examples):\n",
        "    return tokenizer(examples[\"text\"], truncation=True)"
      ]
    },
    {
      "cell_type": "code",
      "source": [
        "tokenized_train = small_train_dataset.map(preprocess_function, batched=True)\n",
        "tokenized_test = small_test_dataset.map(preprocess_function, batched=True)"
      ],
      "metadata": {
        "id": "LTru4uswcz9s"
      },
      "execution_count": null,
      "outputs": []
    },
    {
      "cell_type": "markdown",
      "source": [
        "### Use data_collector to convert our samples to PyTorch tensors and concatenate them with the correct amount of *padding*"
      ],
      "metadata": {
        "id": "HtCdZBewc3Cl"
      }
    },
    {
      "cell_type": "code",
      "execution_count": null,
      "metadata": {
        "id": "7t8AbE9IHKJm"
      },
      "outputs": [],
      "source": [
        "from transformers import DataCollatorWithPadding\n",
        "\n",
        "data_collator = DataCollatorWithPadding(tokenizer=tokenizer)"
      ]
    },
    {
      "cell_type": "markdown",
      "source": [
        "## Training the model"
      ],
      "metadata": {
        "id": "nIbhAIYXZ8Rl"
      }
    },
    {
      "cell_type": "markdown",
      "source": [
        "### Define DistilBERT as our base model:"
      ],
      "metadata": {
        "id": "t4gGUKMmc-mr"
      }
    },
    {
      "cell_type": "code",
      "execution_count": null,
      "metadata": {
        "id": "6oWU3UUpH0gT"
      },
      "outputs": [],
      "source": [
        "from transformers import AutoModelForSequenceClassification"
      ]
    },
    {
      "cell_type": "code",
      "source": [
        "num_labels = ### Fill here"
      ],
      "metadata": {
        "id": "Rfqtb8ZXeviv"
      },
      "execution_count": null,
      "outputs": []
    },
    {
      "cell_type": "code",
      "source": [
        "model = AutoModelForSequenceClassification.from_pretrained(MODEL_NAME, num_labels=num_labels)"
      ],
      "metadata": {
        "id": "n9A9DV2-dCuY"
      },
      "execution_count": null,
      "outputs": []
    },
    {
      "cell_type": "markdown",
      "source": [
        "### Define the evaluation metrics "
      ],
      "metadata": {
        "id": "5RlFfd5XdGDs"
      }
    },
    {
      "cell_type": "code",
      "execution_count": null,
      "metadata": {
        "id": "kjHDD0JzNkga"
      },
      "outputs": [],
      "source": [
        "import numpy as np\n",
        "from datasets import load_metric\n",
        "\n",
        "load_accuracy = load_metric(\"accuracy\")\n",
        "load_f1 = load_metric(\"f1\")\n",
        "\n",
        "def compute_metrics(eval_pred):    \n",
        "    logits, labels = eval_pred\n",
        "    predictions = np.argmax(logits, axis=-1)\n",
        "    accuracy = load_accuracy.compute(predictions=predictions, references=labels)[\"accuracy\"]\n",
        "    f1 = load_f1.compute(predictions=predictions, references=labels)[\"f1\"]\n",
        "    return {\"accuracy\": accuracy, \"f1\": f1}"
      ]
    },
    {
      "cell_type": "markdown",
      "source": [
        "Define a new Trainer with all the objects we constructed so far"
      ],
      "metadata": {
        "id": "nV8Uzp8OkVli"
      }
    },
    {
      "cell_type": "code",
      "execution_count": null,
      "metadata": {
        "id": "GHz8WF7KH2Eq"
      },
      "outputs": [],
      "source": [
        "from transformers import TrainingArguments, Trainer\n",
        "\n",
        "training_args = TrainingArguments(\n",
        "    output_dir=\"runs\",\n",
        "    learning_rate=2e-5,\n",
        "    per_device_train_batch_size=32,\n",
        "    per_device_eval_batch_size=32,\n",
        "    num_train_epochs=2,\n",
        "    weight_decay=0.01,\n",
        "    save_strategy=\"epoch\",\n",
        "    logging_steps=45\n",
        ")"
      ]
    },
    {
      "cell_type": "code",
      "source": [
        "trainer = Trainer(\n",
        "    model=model,\n",
        "    args=training_args,\n",
        "    train_dataset=tokenized_train,\n",
        "    eval_dataset=tokenized_test,\n",
        "    tokenizer=tokenizer,\n",
        "    data_collator=data_collator,\n",
        "    compute_metrics=compute_metrics,\n",
        ")"
      ],
      "metadata": {
        "id": "_djOAnH3dOqn"
      },
      "execution_count": null,
      "outputs": []
    },
    {
      "cell_type": "markdown",
      "source": [
        "### Train the model"
      ],
      "metadata": {
        "id": "xJiiH54BdQ7q"
      }
    },
    {
      "cell_type": "code",
      "source": [
        "trainer.train()"
      ],
      "metadata": {
        "id": "gZ1ouXObuewV"
      },
      "execution_count": null,
      "outputs": []
    },
    {
      "cell_type": "markdown",
      "source": [
        "### Compute the evaluation metrics"
      ],
      "metadata": {
        "id": "aLfZHzLldUZi"
      }
    },
    {
      "cell_type": "code",
      "execution_count": null,
      "metadata": {
        "id": "GAU4UgqZH5C8"
      },
      "outputs": [],
      "source": [
        "trainer.evaluate()"
      ]
    },
    {
      "cell_type": "markdown",
      "source": [
        "## Analyzing new data with the model"
      ],
      "metadata": {
        "id": "InP1LYnQaIfE"
      }
    },
    {
      "cell_type": "markdown",
      "source": [
        "Run inferences with your new model using Pipeline"
      ],
      "metadata": {
        "id": "NBY6gkGRdb_Y"
      }
    },
    {
      "cell_type": "code",
      "source": [
        "YOUR_LOCAL_MODEL = ####"
      ],
      "metadata": {
        "id": "04DVE0_9jPn9"
      },
      "execution_count": null,
      "outputs": []
    },
    {
      "cell_type": "code",
      "source": [
        "sentiment_model = pipeline(task=\"sentiment-analysis\", model=YOUR_LOCAL_MODEL)"
      ],
      "metadata": {
        "id": "oB-ikgCN77wP"
      },
      "execution_count": null,
      "outputs": []
    },
    {
      "cell_type": "code",
      "source": [
        "sentiment_model([\"I love this move\", \"This movie sucks!\"])"
      ],
      "metadata": {
        "id": "v8345VWYhg6h"
      },
      "execution_count": null,
      "outputs": []
    },
    {
      "cell_type": "markdown",
      "source": [
        "## Future Tasks"
      ],
      "metadata": {
        "id": "weO5nryNlfs_"
      }
    },
    {
      "cell_type": "markdown",
      "source": [
        "1. Try to remove the warnings in the notebook, if any\n",
        "2. Load your own dataset\n",
        "3. And if you are **really** interested, try writing your own training loop."
      ],
      "metadata": {
        "id": "STK8f_Qllky5"
      }
    }
  ],
  "metadata": {
    "colab": {
      "provenance": [],
      "toc_visible": true,
      "gpuType": "T4"
    },
    "kernelspec": {
      "display_name": "Python 3",
      "name": "python3"
    },
    "language_info": {
      "name": "python"
    },
    "accelerator": "GPU",
    "gpuClass": "standard"
  },
  "nbformat": 4,
  "nbformat_minor": 0
}