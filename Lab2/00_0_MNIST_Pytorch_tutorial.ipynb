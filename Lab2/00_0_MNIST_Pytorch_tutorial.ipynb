{
  "cells": [
    {
      "cell_type": "markdown",
      "metadata": {
        "id": "ZYl-08jL754o"
      },
      "source": [
        "## Import Torch"
      ]
    },
    {
      "cell_type": "code",
      "execution_count": null,
      "metadata": {
        "id": "GmIJvwvJ7547"
      },
      "outputs": [],
      "source": [
        "### Main torch library\n",
        "import torch\n",
        "### For Neural Network\n",
        "import torch.nn as nn"
      ]
    },
    {
      "cell_type": "code",
      "execution_count": null,
      "metadata": {
        "id": "h3Pk7Zo_754-"
      },
      "outputs": [],
      "source": [
        "### You can find dataset there\n",
        "from torch.utils import data\n",
        "from torchvision import datasets"
      ]
    },
    {
      "cell_type": "markdown",
      "metadata": {
        "id": "CcMo7x9q755B"
      },
      "source": [
        "## Example Matrix Multiplication"
      ]
    },
    {
      "cell_type": "code",
      "execution_count": null,
      "metadata": {
        "id": "TU54jSFX755D",
        "outputId": "ddd110f0-aa84-4ed1-e3f5-a0025b566993"
      },
      "outputs": [
        {
          "data": {
            "text/plain": [
              "tensor([[-8.5580e-01,  5.2191e-02, -4.4817e-01, -4.3088e-01],\n",
              "        [ 1.2990e-01,  5.1331e-01,  1.3316e+00, -1.3093e+00],\n",
              "        [ 5.2150e-01,  3.0771e-01,  2.4291e+00,  2.0999e+00],\n",
              "        [ 5.3424e-01,  4.3236e-01, -1.0132e-03,  8.4785e-01]])"
            ]
          },
          "execution_count": 11,
          "metadata": {},
          "output_type": "execute_result"
        }
      ],
      "source": [
        "A = torch.randn(4,4)\n",
        "A"
      ]
    },
    {
      "cell_type": "code",
      "execution_count": null,
      "metadata": {
        "id": "zotRXWoz755F",
        "outputId": "8dc89818-f06a-4fc4-872d-4b5792949be9"
      },
      "outputs": [
        {
          "data": {
            "text/plain": [
              "tensor([[ 0.4851,  0.7823,  1.0929],\n",
              "        [-1.9071,  0.9326, -0.6973],\n",
              "        [ 1.8524, -1.0100,  0.6644],\n",
              "        [ 0.2954, -0.4327, -0.9198]])"
            ]
          },
          "execution_count": 12,
          "metadata": {},
          "output_type": "execute_result"
        }
      ],
      "source": [
        "B = torch.randn(4, 3)\n",
        "B"
      ]
    },
    {
      "cell_type": "code",
      "execution_count": null,
      "metadata": {
        "id": "BmljxSI6755H",
        "outputId": "5fd5b3f8-0e29-4f43-f5b2-947653ce3bb5"
      },
      "outputs": [
        {
          "data": {
            "text/plain": [
              "tensor([[-1.4722,  0.0183, -0.8731],\n",
              "        [ 1.1640, -0.1981,  1.8730],\n",
              "        [ 4.7863, -2.6671,  0.0378],\n",
              "        [-0.3168,  0.4553, -0.4981]])"
            ]
          },
          "execution_count": 13,
          "metadata": {},
          "output_type": "execute_result"
        }
      ],
      "source": [
        "C = torch.matmul(A, B)\n",
        "C"
      ]
    },
    {
      "cell_type": "code",
      "execution_count": null,
      "metadata": {
        "id": "J0Ob7vpY755M",
        "outputId": "81c7778f-e036-4743-c66b-aae1d851ed81"
      },
      "outputs": [
        {
          "data": {
            "text/plain": [
              "torch.Size([4, 3])"
            ]
          },
          "execution_count": 14,
          "metadata": {},
          "output_type": "execute_result"
        }
      ],
      "source": [
        "C.shape"
      ]
    },
    {
      "cell_type": "markdown",
      "metadata": {
        "id": "TPTMR0dF755U"
      },
      "source": [
        "## Load Dataset"
      ]
    },
    {
      "cell_type": "code",
      "execution_count": null,
      "metadata": {
        "id": "0A_PJLUe755X"
      },
      "outputs": [],
      "source": [
        "from torchvision import transforms\n",
        "to_tensor = transforms.ToTensor()"
      ]
    },
    {
      "cell_type": "code",
      "execution_count": null,
      "metadata": {
        "id": "R_1clYDo755Z"
      },
      "outputs": [],
      "source": [
        "train_data = datasets.MNIST(root=\"./datasets\", train=True, download=True, transform=to_tensor)"
      ]
    },
    {
      "cell_type": "code",
      "execution_count": null,
      "metadata": {
        "id": "jjhQmlED755a"
      },
      "outputs": [],
      "source": [
        "test_data = datasets.MNIST(root=\"./datasets\", train=False, download=True, transform=to_tensor)"
      ]
    },
    {
      "cell_type": "code",
      "execution_count": null,
      "metadata": {
        "id": "upJ-Os-3755b",
        "outputId": "03a410f0-bc29-4513-e101-c9ffb5ae6df1"
      },
      "outputs": [
        {
          "data": {
            "text/plain": [
              "torch.Size([60000, 28, 28])"
            ]
          },
          "execution_count": 40,
          "metadata": {},
          "output_type": "execute_result"
        }
      ],
      "source": [
        "train_data.data.shape"
      ]
    },
    {
      "cell_type": "code",
      "execution_count": null,
      "metadata": {
        "id": "PJqzq5Bb755d",
        "outputId": "406c1487-40e4-4d7b-e8ae-0db992c4adf7"
      },
      "outputs": [
        {
          "data": {
            "text/plain": [
              "torch.Size([10000, 28, 28])"
            ]
          },
          "execution_count": 41,
          "metadata": {},
          "output_type": "execute_result"
        }
      ],
      "source": [
        "test_data.data.shape"
      ]
    },
    {
      "cell_type": "code",
      "execution_count": null,
      "metadata": {
        "id": "7Dj-UQgg755f"
      },
      "outputs": [],
      "source": [
        "import matplotlib.pyplot as plt"
      ]
    },
    {
      "cell_type": "code",
      "execution_count": null,
      "metadata": {
        "id": "IhPZKpUu755g",
        "outputId": "facfca8b-98ae-4576-e654-1072cebdf99e"
      },
      "outputs": [
        {
          "data": {
            "text/plain": [
              "(<matplotlib.image.AxesImage at 0x7ff96d9cb950>, tensor(5))"
            ]
          },
          "execution_count": 43,
          "metadata": {},
          "output_type": "execute_result"
        },
        {
          "data": {
            "image/png": "[encoded data removed]",
            "text/plain": [
              "<Figure size 432x288 with 1 Axes>"
            ]
          },
          "metadata": {
            "needs_background": "light"
          },
          "output_type": "display_data"
        }
      ],
      "source": [
        "plt.imshow(train_data.data[0]), train_data.targets[0]"
      ]
    },
    {
      "cell_type": "code",
      "execution_count": null,
      "metadata": {
        "id": "_lKBKDX4755h"
      },
      "outputs": [],
      "source": [
        "train_data_loader = data.DataLoader(train_data, shuffle=True, batch_size=32)\n",
        "test_data_loader = data.DataLoader(test_data, shuffle=True, batch_size=32)"
      ]
    },
    {
      "cell_type": "code",
      "execution_count": null,
      "metadata": {
        "id": "dWjdSwf7755i",
        "outputId": "84384907-1f8f-4ff5-d939-b0a1fa83bf28"
      },
      "outputs": [
        {
          "name": "stdout",
          "output_type": "stream",
          "text": [
            "torch.Size([32, 1, 28, 28])\n",
            "torch.Size([32, 784])\n"
          ]
        }
      ],
      "source": [
        "for inputs, label in train_data_loader:\n",
        "    print(inputs.shape)\n",
        "    print(inputs.reshape(32, 784).shape)\n",
        "    break"
      ]
    },
    {
      "cell_type": "markdown",
      "metadata": {
        "id": "CSsBOdpV755j"
      },
      "source": [
        "### Model - Neural Network"
      ]
    },
    {
      "cell_type": "code",
      "execution_count": null,
      "metadata": {
        "id": "PeN-modj755j"
      },
      "outputs": [],
      "source": [
        "model = nn.Sequential(\n",
        "    nn.Linear(28*28, 500),\n",
        "    nn.ReLU(),\n",
        "    nn.Linear(500, 100),\n",
        "    nn.ReLU(),\n",
        "    nn.Linear(100, 10)\n",
        ")"
      ]
    },
    {
      "cell_type": "code",
      "execution_count": null,
      "metadata": {
        "id": "1Tf-ACuB755k",
        "outputId": "cb32a0e4-54f5-48e0-a98c-806307f79b4e"
      },
      "outputs": [
        {
          "data": {
            "text/plain": [
              "Sequential(\n",
              "  (0): Linear(in_features=784, out_features=500, bias=True)\n",
              "  (1): ReLU()\n",
              "  (2): Linear(in_features=500, out_features=100, bias=True)\n",
              "  (3): ReLU()\n",
              "  (4): Linear(in_features=100, out_features=10, bias=True)\n",
              ")"
            ]
          },
          "execution_count": 87,
          "metadata": {},
          "output_type": "execute_result"
        }
      ],
      "source": [
        "model"
      ]
    },
    {
      "cell_type": "code",
      "execution_count": null,
      "metadata": {
        "id": "RSSfpd7E755l",
        "outputId": "4006a4ee-5f6c-4ae6-f280-68e01aa101d5"
      },
      "outputs": [
        {
          "name": "stdout",
          "output_type": "stream",
          "text": [
            "Outputs\n",
            "tensor([4, 4, 4, 3, 3, 4, 3, 4, 4, 4, 4, 4, 4, 4, 4, 4, 3, 4, 4, 4, 4, 4, 3, 3,\n",
            "        3, 4, 3, 3, 3, 4, 4, 4])\n",
            "Targets\n",
            "tensor([6, 1, 3, 7, 6, 4, 2, 9, 4, 7, 7, 8, 7, 2, 7, 3, 2, 3, 2, 2, 9, 5, 1, 6,\n",
            "        3, 0, 4, 7, 0, 7, 9, 9])\n"
          ]
        }
      ],
      "source": [
        "for inputs, label in test_data_loader:\n",
        "    bs = inputs.shape[0]\n",
        "\n",
        "    inputs = inputs.reshape(bs, 28*28)\n",
        "    outputs = model(inputs)\n",
        "    out = torch.argmax(outputs, dim=1)\n",
        "    print(\"Outputs\")\n",
        "    print(out)\n",
        "    print(\"Targets\")\n",
        "    print(label)\n",
        "    break"
      ]
    },
    {
      "cell_type": "markdown",
      "metadata": {
        "id": "Qmx-yJrs755m"
      },
      "source": [
        "## Optimizer"
      ]
    },
    {
      "cell_type": "code",
      "execution_count": null,
      "metadata": {
        "id": "L_sbKXCe755n"
      },
      "outputs": [],
      "source": [
        "optimizer = torch.optim.Adam(model.parameters(), lr=0.001)\n",
        "error_function = nn.CrossEntropyLoss()"
      ]
    },
    {
      "cell_type": "markdown",
      "metadata": {
        "id": "FtSceZBa755o"
      },
      "source": [
        "## Training Loop"
      ]
    },
    {
      "cell_type": "code",
      "execution_count": null,
      "metadata": {
        "id": "dQJ3mPxQ755p"
      },
      "outputs": [],
      "source": [
        "# train_loss = []\n",
        "# test_loss = []\n",
        "# train_accuracy = []\n",
        "test_accuracy = []\n",
        "EPOCHS = 50"
      ]
    },
    {
      "cell_type": "code",
      "execution_count": null,
      "metadata": {
        "id": "iCr1keu6755p"
      },
      "outputs": [],
      "source": [
        "### Find accuracy of Test Dataset\n",
        "count = 0\n",
        "accuracy = 0\n",
        "for inputs, label in test_data_loader:\n",
        "    ### change shape of input\n",
        "    bs = inputs.shape[0]\n",
        "    inputs = inputs.reshape(bs, 28*28)\n",
        "\n",
        "    ### predict the output\n",
        "    outputs = model(inputs)\n",
        "    out = torch.argmax(outputs, dim=1)\n",
        "\n",
        "    accuracy += (out == label).type(torch.float).sum()\n",
        "    count += bs\n",
        "test_accuracy.append(accuracy/count)"
      ]
    },
    {
      "cell_type": "code",
      "execution_count": null,
      "metadata": {
        "id": "0REFx-UI755p",
        "outputId": "282df909-8dcd-47c0-c39e-4c54e48909c3"
      },
      "outputs": [
        {
          "data": {
            "text/plain": [
              "[tensor(0.1130)]"
            ]
          },
          "execution_count": 92,
          "metadata": {},
          "output_type": "execute_result"
        }
      ],
      "source": [
        "test_accuracy"
      ]
    },
    {
      "cell_type": "code",
      "execution_count": null,
      "metadata": {
        "id": "fsr-tOjU755r",
        "outputId": "48d3ae4d-0ad8-47b1-e779-47ec98706480"
      },
      "outputs": [
        {
          "name": "stdout",
          "output_type": "stream",
          "text": [
            "Training EPOCH 0\n",
            "Training EPOCH 1\n",
            "Training EPOCH 2\n"
          ]
        }
      ],
      "source": [
        "for epoch in range(EPOCHS):\n",
        "    print(\"Training EPOCH\", epoch)\n",
        "    for inputs, label in train_data_loader:\n",
        "        ### change shape of input\n",
        "        bs = inputs.shape[0]\n",
        "        inputs = inputs.reshape(bs, 28*28)\n",
        "\n",
        "        ### predict the output\n",
        "        outputs = model(inputs)\n",
        "\n",
        "        ### find the error\n",
        "        error = error_function(outputs, label)\n",
        "\n",
        "        ### backpropagate\n",
        "        optimizer.zero_grad()\n",
        "        error.backward()\n",
        "        optimizer.step()\n",
        "\n",
        "    ### Find accuracy of Test Dataset\n",
        "    count = 0\n",
        "    accuracy = 0\n",
        "    for inputs, label in test_data_loader:\n",
        "        ### change shape of input\n",
        "        bs = inputs.shape[0]\n",
        "        inputs = inputs.reshape(bs, 28*28)\n",
        "\n",
        "        ### predict the output\n",
        "        outputs = model(inputs)\n",
        "        out = torch.argmax(outputs, dim=1)\n",
        "\n",
        "        accuracy += (out == label).type(torch.float).sum()\n",
        "        count += bs\n",
        "    test_accuracy.append(accuracy/count)\n",
        "    plt.plot(test_accuracy)\n",
        "\n",
        "\n",
        "#     print(\"Outputs\")\n",
        "#     print(out)\n",
        "#     print(\"Targets\")\n",
        "#     print(label)\n",
        "#     break"
      ]
    },
    {
      "cell_type": "code",
      "execution_count": null,
      "metadata": {
        "id": "3CuE5kkM755s",
        "outputId": "26982d1a-3fa5-49f2-89be-0795dcb4603d"
      },
      "outputs": [
        {
          "data": {
            "text/plain": [
              "[<matplotlib.lines.Line2D at 0x7ff968118b10>]"
            ]
          },
          "execution_count": 85,
          "metadata": {},
          "output_type": "execute_result"
        },
        {
          "data": {
            "image/png": "[encoded data removed]",
            "text/plain": [
              "<Figure size 432x288 with 1 Axes>"
            ]
          },
          "metadata": {
            "needs_background": "light"
          },
          "output_type": "display_data"
        }
      ],
      "source": [
        "plt.plot(test_accuracy)"
      ]
    },
    {
      "cell_type": "code",
      "execution_count": null,
      "metadata": {
        "id": "IPf1Cvd-755t",
        "outputId": "1c3c5b5d-0a90-4ad3-f370-e94cfe12aa86"
      },
      "outputs": [
        {
          "data": {
            "text/plain": [
              "[tensor(0.0707),\n",
              " tensor(0.9683),\n",
              " tensor(0.9757),\n",
              " tensor(0.9753),\n",
              " tensor(0.9801)]"
            ]
          },
          "execution_count": 80,
          "metadata": {},
          "output_type": "execute_result"
        }
      ],
      "source": [
        "test_accuracy"
      ]
    },
    {
      "cell_type": "code",
      "execution_count": null,
      "metadata": {
        "id": "3LJErlcM755u"
      },
      "outputs": [],
      "source": []
    }
  ],
  "metadata": {
    "kernelspec": {
      "display_name": "Python 3",
      "language": "python",
      "name": "python3"
    },
    "language_info": {
      "codemirror_mode": {
        "name": "ipython",
        "version": 3
      },
      "file_extension": ".py",
      "mimetype": "text/x-python",
      "name": "python",
      "nbconvert_exporter": "python",
      "pygments_lexer": "ipython3",
      "version": "3.7.4"
    },
    "colab": {
      "provenance": []
    }
  },
  "nbformat": 4,
  "nbformat_minor": 0
}